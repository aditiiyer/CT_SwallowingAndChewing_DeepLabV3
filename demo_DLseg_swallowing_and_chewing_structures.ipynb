{
  "nbformat": 4,
  "nbformat_minor": 0,
  "metadata": {
    "accelerator": "GPU",
    "colab": {
      "name": "demo_DLseg_swallowing_and_chewing_structures.ipynb",
      "provenance": [],
      "collapsed_sections": [],
      "toc_visible": true,
      "include_colab_link": true
    },
    "kernelspec": {
      "display_name": "Python 3",
      "name": "python3"
    },
    "language_info": {
      "name": "python"
    }
  },
  "cells": [
    {
      "cell_type": "markdown",
      "metadata": {
        "id": "yu88yJaKGk3m"
      },
      "source": [
        "#  Deep learning-based segmentation of Swallowing and Chewing structures in H&N CT scans\n",
        "\n",
        "This notebook demonstrates the application of a Convolution Neural Network model to segment the following swallowing and chewing structures in H&N CT scans. Model details are available in [bioRxiv article](https://www.biorxiv.org/content/10.1101/772178v1) by Iyer A *et al*.\n",
        "\n",
        "### Output structures:\n",
        "\n",
        "*   Masseters (left, right)\n",
        "*   Medial pterygoid (left, right)\n",
        "*   Larynx_DLabV3\n",
        "*   Constrictor muscle\n",
        "\n",
        "---\n"
      ]
    },
    {
      "cell_type": "markdown",
      "metadata": {
        "id": "aHsv1Npn-kit"
      },
      "source": [
        "## Install Octave 5.2 and required packages"
      ]
    },
    {
      "cell_type": "code",
      "metadata": {
        "id": "VFcgh7oO8Er6"
      },
      "source": [
        "%%capture\n",
        "! apt-get update\n",
        "! apt-get install gcc g++ gfortran make libblas-dev liblapack-dev libpcre3-dev libarpack2-dev libcurl4-gnutls-dev epstool libfftw3-dev transfig libfltk1.3-dev libfontconfig1-dev libfreetype6-dev libgl2ps-dev libglpk-dev libreadline-dev gnuplot-x11 libgraphicsmagick++1-dev libhdf5-serial-dev openjdk-8-jdk libsndfile1-dev llvm-dev lpr texinfo libgl1-mesa-dev libosmesa6-dev pstoedit portaudio19-dev libqhull-dev libqrupdate-dev libqscintilla2-dev libsuitesparse-dev texlive texlive-generic-recommended libxft-dev zlib1g-dev autoconf automake bison flex gperf gzip icoutils librsvg2-bin libtool perl rsync tar qtbase5-dev qttools5-dev qttools5-dev-tools libqscintilla2-qt5-dev wget git libsundials-dev gnuplot x11-apps"
      ],
      "execution_count": null,
      "outputs": []
    },
    {
      "cell_type": "code",
      "metadata": {
        "id": "II7dNAx11Qwa"
      },
      "source": [
        "%%capture\n",
        "%%bash\n",
        "LOCATION=$(curl -s https://api.github.com/repos/cerr/octave-colab/tags \\\n",
        "| grep \"name\" | tail -n 1 \\\n",
        "| awk '{print \"https://github.com/cerr/octave-colab/archive/\" substr($2, 2, length($2)-3) \".zip\"}') \\\n",
        "; curl -L -o octavecolab.zip $LOCATION\n",
        "\n",
        "unzip octavecolab.zip -d octavecolab\n",
        "releaseDir=$(ls octavecolab)\n",
        "tar xzvf \"octavecolab/${releaseDir}/octavecolab.tar.gz\""
      ],
      "execution_count": null,
      "outputs": []
    },
    {
      "cell_type": "code",
      "metadata": {
        "id": "_rRH9-ja8PHW"
      },
      "source": [
        "import os\n",
        "os.environ['OCTAVE_EXECUTABLE'] = '/content/octavecolab/bin/octave-cli'\n",
        "os.environ['PATH'] = '/content/octavecolab/bin:' + os.environ['PATH']"
      ],
      "execution_count": null,
      "outputs": []
    },
    {
      "cell_type": "code",
      "metadata": {
        "id": "XxJOqpOZ8TF1"
      },
      "source": [
        "%%capture\n",
        "! pip3 install octave_kernel\n",
        "! pip3 install oct2py\n",
        "\n",
        "%load_ext oct2py.ipython\n",
        "\n",
        "!wget https://nchc.dl.sourceforge.net/project/octave/Octave%20Forge%20Packages/Individual%20Package%20Releases/image-2.12.0.tar.gz\n",
        "!wget https://nchc.dl.sourceforge.net/project/octave/Octave%20Forge%20Packages/Individual%20Package%20Releases/io-2.6.1.tar.gz\n",
        "!wget https://nchc.dl.sourceforge.net/project/octave/Octave%20Forge%20Packages/Individual%20Package%20Releases/statistics-1.4.2.tar.gz\n",
        "\n",
        "!octave --eval \"pkg install image-2.12.0.tar.gz\"\n",
        "!octave --eval \"pkg install io-2.6.1.tar.gz\"\n",
        "!octave --eval \"pkg install statistics-1.4.2.tar.gz\""
      ],
      "execution_count": null,
      "outputs": []
    },
    {
      "cell_type": "markdown",
      "metadata": {
        "id": "G_N4Prl__MbP"
      },
      "source": [
        "## Download pretrained models"
      ]
    },
    {
      "cell_type": "code",
      "metadata": {
        "id": "RQAA6zsn8KqU"
      },
      "source": [
        "%%capture\n",
        "%%bash\n",
        "LOCATION=$(curl -s https://api.github.com/repos/aditiiyer/CT_SwallowingAndChewing_DeepLabV3/tags \\\n",
        "| grep \"name\"| grep \"linux\" \\\n",
        "| awk '{print \"https://github.com/aditiiyer/CT_SwallowingAndChewing_DeepLabV3/archive/\" substr($2, 2, length($2)-3) \".zip\"}') \\\n",
        "; curl -L -o swallowChewSeg.zip $LOCATION\n",
        "\n",
        "unzip swallowChewSeg.zip -d pretrained\n"
      ],
      "execution_count": null,
      "outputs": []
    },
    {
      "cell_type": "markdown",
      "metadata": {
        "id": "Mgfywy9v_kvR"
      },
      "source": [
        "## Download CERRx"
      ]
    },
    {
      "cell_type": "code",
      "metadata": {
        "id": "4R53ijVe_rOV"
      },
      "source": [
        "%%capture\n",
        "!git clone --single-branch --branch octave_dev https://www.github.com/cerr/CERR.git"
      ],
      "execution_count": null,
      "outputs": []
    },
    {
      "cell_type": "markdown",
      "metadata": {
        "id": "6KC8NMZdE4A6"
      },
      "source": [
        "## Apply segmentation models to sample data"
      ]
    },
    {
      "cell_type": "code",
      "metadata": {
        "id": "uATelfGNDEkI"
      },
      "source": [
        "from oct2py import octave\n",
        "\n",
        "octave.eval('pkg load image')\n",
        "octave.eval('pkg load io')\n",
        "octave.eval('pkg load statistics')\n",
        "octave.addpath(octave.genpath('/content/CERR'))"
      ],
      "execution_count": null,
      "outputs": []
    },
    {
      "cell_type": "code",
      "metadata": {
        "id": "pD9QPBhsE1eM"
      },
      "source": [
        "sampleData = '/content/CERR/Unit_Testing/data_for_cerr_tests/' + \\\n",
        "              'CERR_plans/head_neck_ex1_20may03.mat.bz2'\n",
        "\n",
        "%octave_push sampleData\n",
        "planC = octave.loadPlanC(sampleData, octave.tempdir())\n",
        "planC = octave.updatePlanFields(planC)\n",
        "planC = octave.quality_assure_planC(sampleData, planC)\n",
        "\n",
        "algorithm = 'CT_ChewingStructures_DeepLabV3';\n",
        "sessionPath = '/content/temp/'\n",
        "condaEnvName = '/content/pretrained/CT_SwallowingAndChewing_DeepLabV3-1.0-linux/'\n",
        "planC = octave.runSegForPlanCInCondaEnv(planC,sessionPath,algorithm, \\\n",
        "                                        condaEnvName)"
      ],
      "execution_count": null,
      "outputs": []
    },
    {
      "cell_type": "code",
      "metadata": {
        "id": "BK0yAvbQQNBR"
      },
      "source": [
        "from oct2py import octave\n",
        "%octave_push planC"
      ],
      "execution_count": null,
      "outputs": []
    },
    {
      "cell_type": "code",
      "metadata": {
        "id": "GVml6zI9QRgb"
      },
      "source": [
        "%%octave\n",
        "\n",
        "addpath(genpath('/content/CERR'))\n",
        "\n",
        "%Get scan array\n",
        "indexS = planC{end};\n",
        "scanNum = 1;\n",
        "ctOffset = planC{indexS.scan}(scanNum).scanInfo(1).CTOffset;\n",
        "scanArray = single(getScanArray(scanNum,planC)) - ctOffset;\n",
        "\n",
        "%Get structure labels & masks\n",
        "numStructs = length(planC{indexS.structures});\n",
        "structNameC = {planC{indexS.structures}.structureName};\n",
        "strNameC = {'Left_masseter', 'Right_masseter', 'Left_medial_pterygoid',...\n",
        "              'Right_medial_pterygoid'};\n",
        "for strNum = 1:length(strNameC)\n",
        "    strx = strNameC{strNum};\n",
        "    idx = getMatchingIndex(strx,structNameC,'EXACT');\n",
        "    mask3M = getStrMask(idx, planC);\n",
        "    maskC{strNum} = mask3M;\n",
        "end"
      ],
      "execution_count": null,
      "outputs": []
    },
    {
      "cell_type": "code",
      "metadata": {
        "id": "9_mlA0D8QYFf"
      },
      "source": [
        "%octave_pull maskC strNameC scanArray"
      ],
      "execution_count": null,
      "outputs": []
    },
    {
      "cell_type": "code",
      "metadata": {
        "id": "Ajqv7egbQaLu"
      },
      "source": [
        "import matplotlib.pyplot as plt\n",
        "import numpy as np\n",
        "from IPython.display import clear_output\n",
        "import ipywidgets as widgets\n",
        "\n",
        "dx, dy = 1, 1\n",
        "\n",
        "x = np.arange(0, 255, dx)\n",
        "y = np.arange(0, 255, dy)\n",
        "extent = np.min(x), np.max(x), np.min(y), np.max(y)\n",
        "\n",
        "clear_output(wait=True)\n",
        "\n",
        "def window_image(image, window_center, window_width):\n",
        "    img_min = window_center - window_width // 2\n",
        "    img_max = window_center + window_width // 2\n",
        "    window_image = image.copy()\n",
        "    window_image[window_image < img_min] = img_min\n",
        "    window_image[window_image > img_max] = img_max\n",
        "    \n",
        "    return window_image\n",
        "\n",
        "def show_axial_slice(slcNum):\n",
        "    clear_output(wait=True)\n",
        "    print('Slice '+str(slcNum))\n",
        "    if 'fig' in locals():\n",
        "        fig.remove()\n",
        "    fig, ax = plt.subplots()\n",
        "    window_center = 45\n",
        "    window_width = 125\n",
        "    windowed_img = window_image(scanArray[:,:,slcNum-1],\n",
        "                                window_center,window_width)\n",
        "    im1 = ax.imshow(windowed_img, cmap=plt.cm.gray, alpha=1,\n",
        "                    interpolation='nearest', extent=extent)\n",
        "    \n",
        "    cmaps = [plt.cm.Oranges,plt.cm.Oranges,plt.cm.Blues,plt.cm.Blues, \\\n",
        "             plt.cm.Purples,plt.cm.Greens]\n",
        "\n",
        "    for maskNum in range(0,6,1):\n",
        "        mask_cmap = cmaps[maskNum]\n",
        "        mask_cmap.set_under('k', alpha=0)\n",
        "        im2 = ax.imshow(maskC[0,maskNum][:,:,slcNum-1], \n",
        "                        cmap=mask_cmap, alpha=.8, extent=extent,\n",
        "                        interpolation='none', clim=[0.5, 1])        \n",
        "    plt.show()\n",
        "\n",
        "slice_slider = widgets.IntSlider(min=1,max=79,step=1)\n",
        "outputSlc = widgets.Output()\n",
        "\n",
        "display(slice_slider, outputSlc)\n",
        "\n",
        "def update_slice(change):\n",
        "    with outputSlc:\n",
        "        show_axial_slice(change['new'])\n",
        "\n",
        "slice_slider.observe(update_slice, names='value')\n"
      ],
      "execution_count": null,
      "outputs": []
    }
  ]
}
